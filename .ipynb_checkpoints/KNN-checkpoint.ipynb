{
 "cells": [
  {
   "cell_type": "markdown",
   "id": "44bb0fd8",
   "metadata": {},
   "source": [
    "**<font size=5> Prevendo faixa de renda de estudantes com Machine Learning (KNN)**\n",
    "\n",
    "******"
   ]
  },
  {
   "cell_type": "markdown",
   "id": "c99a7204",
   "metadata": {},
   "source": [
    "**Dataset usado:**\n",
    "> https://www.kaggle.com/benroshan/factors-affecting-campus-placement/data"
   ]
  },
  {
   "cell_type": "markdown",
   "id": "4b86d36e",
   "metadata": {},
   "source": [
    "**Campos e Descrição:**\n",
    "\n",
    "\n",
    "* `gender`: Coluna de sexo (M e F)\n",
    "* `ssc_p`: Nota do ensino fundamental\n",
    "* `ssc_b`: Se trata do tipo de escola que a pessoa estudou. Central = Publica, Others = Privada\n",
    "* `hsc_p`: Nota do ensino Médio\n",
    "* `hsc_b`: Se trata do tipo de escola que a pessoa estudou. Central = Publica, Others = Privada\n",
    "* `hsc_s`: Significa se o aluno fez algum curso técnico durante o ensino médio\n",
    "* `degree_p`: Nota do aluno no curso técnico\n",
    "* `degree_t`: Nome do curso\n",
    "* `workex`: Significa se o estudante já teve alguma experiencia até esse momento\n",
    "* `etest_p`: Nota do aluno na Universidade\n",
    "* `specialisation`: Se trata da especialização do aluno após a Universidade (MBA)\n",
    "* `mba_p`: Nota do aluno no MBA\n",
    "* `status`: Significa se o aluno está empregado no momento (Placed = Sim, Not Placed = Não)\n",
    "* `salary`: O salário do aluno"
   ]
  },
  {
   "cell_type": "markdown",
   "id": "08ddf425",
   "metadata": {},
   "source": [
    "**<font size=5>Índice**"
   ]
  },
  {
   "cell_type": "markdown",
   "id": "9ad4fd39",
   "metadata": {},
   "source": [
    "1. [Importando bibliotecas](#Importando-bibliotecas)\n",
    "2. [Análise Iniciais do dataset](#Análise-Iniciais-do-dataset)\n",
    "3. [Tratamento dos dados](#Tratamento-dos-dados)\n",
    "4. [Análise gráfica](#Análise-Gráfica)\n",
    "5. [Aplicando modelo de Machine Learning: KNN](#Aplicando-modelo-de-Machine-Learning:-KNN)\n",
    "6. [Otimizando o Parametro K](#Otimizando-o-Parametro-K)\n",
    "7. [Visualizando a fronteira](#Visualizando-a-fronteira)\n",
    "8. [Testando o Modelo com Novas Entradas](#Testando-o-Modelo-com-Novas-Entradas)"
   ]
  },
  {
   "cell_type": "markdown",
   "id": "92a39cef",
   "metadata": {},
   "source": [
    "## Importando bibliotecas"
   ]
  },
  {
   "cell_type": "code",
   "execution_count": 1,
   "id": "e84b6409",
   "metadata": {
    "ExecuteTime": {
     "end_time": "2022-03-05T11:06:02.326367Z",
     "start_time": "2022-03-05T11:05:58.551054Z"
    }
   },
   "outputs": [
    {
     "name": "stderr",
     "output_type": "stream",
     "text": [
      "<frozen importlib._bootstrap>:228: RuntimeWarning: scipy._lib.messagestream.MessageStream size changed, may indicate binary incompatibility. Expected 56 from C header, got 64 from PyObject\n"
     ]
    }
   ],
   "source": [
    "# Bibliotecas para a leitura, manipulação e visualização\n",
    "import pandas as pd\n",
    "import numpy as np\n",
    "import matplotlib.pyplot as plt\n",
    "import seaborn as sns\n",
    "\n",
    "# Biblioteca para a criação do modelo\n",
    "from sklearn import preprocessing, model_selection, neighbors\n",
    "from sklearn.preprocessing import StandardScaler\n",
    "\n",
    "# Biblioteca para plotar o modelo\n",
    "from mlxtend.plotting import plot_decision_regions\n",
    "\n",
    "import warnings\n",
    "warnings.filterwarnings('ignore')"
   ]
  },
  {
   "cell_type": "markdown",
   "id": "56103f6a",
   "metadata": {},
   "source": [
    "## Análise Iniciais do dataset"
   ]
  },
  {
   "cell_type": "markdown",
   "id": "5e51aa28",
   "metadata": {},
   "source": [
    "* Lendo o arquivo csv"
   ]
  },
  {
   "cell_type": "code",
   "execution_count": 2,
   "id": "6e91136f",
   "metadata": {
    "ExecuteTime": {
     "end_time": "2022-03-05T11:06:02.370350Z",
     "start_time": "2022-03-05T11:06:02.326367Z"
    }
   },
   "outputs": [],
   "source": [
    "df = pd.read_csv('data/Data.csv')"
   ]
  },
  {
   "cell_type": "markdown",
   "id": "cf52543b",
   "metadata": {},
   "source": [
    "* Verificando as primeiras linhas do dataset"
   ]
  },
  {
   "cell_type": "code",
   "execution_count": 3,
   "id": "2f7e02ca",
   "metadata": {
    "ExecuteTime": {
     "end_time": "2022-03-05T11:06:02.402363Z",
     "start_time": "2022-03-05T11:06:02.370350Z"
    }
   },
   "outputs": [
    {
     "data": {
      "text/html": [
       "<div>\n",
       "<style scoped>\n",
       "    .dataframe tbody tr th:only-of-type {\n",
       "        vertical-align: middle;\n",
       "    }\n",
       "\n",
       "    .dataframe tbody tr th {\n",
       "        vertical-align: top;\n",
       "    }\n",
       "\n",
       "    .dataframe thead th {\n",
       "        text-align: right;\n",
       "    }\n",
       "</style>\n",
       "<table border=\"1\" class=\"dataframe\">\n",
       "  <thead>\n",
       "    <tr style=\"text-align: right;\">\n",
       "      <th></th>\n",
       "      <th>sl_no</th>\n",
       "      <th>gender</th>\n",
       "      <th>ssc_p</th>\n",
       "      <th>ssc_b</th>\n",
       "      <th>hsc_p</th>\n",
       "      <th>hsc_b</th>\n",
       "      <th>hsc_s</th>\n",
       "      <th>degree_p</th>\n",
       "      <th>degree_t</th>\n",
       "      <th>workex</th>\n",
       "      <th>etest_p</th>\n",
       "      <th>specialisation</th>\n",
       "      <th>mba_p</th>\n",
       "      <th>status</th>\n",
       "      <th>salary</th>\n",
       "    </tr>\n",
       "  </thead>\n",
       "  <tbody>\n",
       "    <tr>\n",
       "      <th>0</th>\n",
       "      <td>1</td>\n",
       "      <td>M</td>\n",
       "      <td>67.00</td>\n",
       "      <td>Others</td>\n",
       "      <td>91.00</td>\n",
       "      <td>Others</td>\n",
       "      <td>Commerce</td>\n",
       "      <td>58.00</td>\n",
       "      <td>Sci&amp;Tech</td>\n",
       "      <td>No</td>\n",
       "      <td>55.0</td>\n",
       "      <td>Mkt&amp;HR</td>\n",
       "      <td>58.80</td>\n",
       "      <td>Placed</td>\n",
       "      <td>270000.0</td>\n",
       "    </tr>\n",
       "    <tr>\n",
       "      <th>1</th>\n",
       "      <td>2</td>\n",
       "      <td>M</td>\n",
       "      <td>79.33</td>\n",
       "      <td>Central</td>\n",
       "      <td>78.33</td>\n",
       "      <td>Others</td>\n",
       "      <td>Science</td>\n",
       "      <td>77.48</td>\n",
       "      <td>Sci&amp;Tech</td>\n",
       "      <td>Yes</td>\n",
       "      <td>86.5</td>\n",
       "      <td>Mkt&amp;Fin</td>\n",
       "      <td>66.28</td>\n",
       "      <td>Placed</td>\n",
       "      <td>200000.0</td>\n",
       "    </tr>\n",
       "    <tr>\n",
       "      <th>2</th>\n",
       "      <td>3</td>\n",
       "      <td>M</td>\n",
       "      <td>65.00</td>\n",
       "      <td>Central</td>\n",
       "      <td>68.00</td>\n",
       "      <td>Central</td>\n",
       "      <td>Arts</td>\n",
       "      <td>64.00</td>\n",
       "      <td>Comm&amp;Mgmt</td>\n",
       "      <td>No</td>\n",
       "      <td>75.0</td>\n",
       "      <td>Mkt&amp;Fin</td>\n",
       "      <td>57.80</td>\n",
       "      <td>Placed</td>\n",
       "      <td>250000.0</td>\n",
       "    </tr>\n",
       "    <tr>\n",
       "      <th>3</th>\n",
       "      <td>4</td>\n",
       "      <td>M</td>\n",
       "      <td>56.00</td>\n",
       "      <td>Central</td>\n",
       "      <td>52.00</td>\n",
       "      <td>Central</td>\n",
       "      <td>Science</td>\n",
       "      <td>52.00</td>\n",
       "      <td>Sci&amp;Tech</td>\n",
       "      <td>No</td>\n",
       "      <td>66.0</td>\n",
       "      <td>Mkt&amp;HR</td>\n",
       "      <td>59.43</td>\n",
       "      <td>Not Placed</td>\n",
       "      <td>NaN</td>\n",
       "    </tr>\n",
       "    <tr>\n",
       "      <th>4</th>\n",
       "      <td>5</td>\n",
       "      <td>M</td>\n",
       "      <td>85.80</td>\n",
       "      <td>Central</td>\n",
       "      <td>73.60</td>\n",
       "      <td>Central</td>\n",
       "      <td>Commerce</td>\n",
       "      <td>73.30</td>\n",
       "      <td>Comm&amp;Mgmt</td>\n",
       "      <td>No</td>\n",
       "      <td>96.8</td>\n",
       "      <td>Mkt&amp;Fin</td>\n",
       "      <td>55.50</td>\n",
       "      <td>Placed</td>\n",
       "      <td>425000.0</td>\n",
       "    </tr>\n",
       "  </tbody>\n",
       "</table>\n",
       "</div>"
      ],
      "text/plain": [
       "   sl_no gender  ssc_p    ssc_b  hsc_p    hsc_b     hsc_s  degree_p  \\\n",
       "0      1      M  67.00   Others  91.00   Others  Commerce     58.00   \n",
       "1      2      M  79.33  Central  78.33   Others   Science     77.48   \n",
       "2      3      M  65.00  Central  68.00  Central      Arts     64.00   \n",
       "3      4      M  56.00  Central  52.00  Central   Science     52.00   \n",
       "4      5      M  85.80  Central  73.60  Central  Commerce     73.30   \n",
       "\n",
       "    degree_t workex  etest_p specialisation  mba_p      status    salary  \n",
       "0   Sci&Tech     No     55.0         Mkt&HR  58.80      Placed  270000.0  \n",
       "1   Sci&Tech    Yes     86.5        Mkt&Fin  66.28      Placed  200000.0  \n",
       "2  Comm&Mgmt     No     75.0        Mkt&Fin  57.80      Placed  250000.0  \n",
       "3   Sci&Tech     No     66.0         Mkt&HR  59.43  Not Placed       NaN  \n",
       "4  Comm&Mgmt     No     96.8        Mkt&Fin  55.50      Placed  425000.0  "
      ]
     },
     "execution_count": 3,
     "metadata": {},
     "output_type": "execute_result"
    }
   ],
   "source": [
    "df.head()"
   ]
  },
  {
   "cell_type": "markdown",
   "id": "454fdf73",
   "metadata": {},
   "source": [
    "**Como podemos ver a primeira coluna 'sl_no' é uma de coluna index, e diante disso podemos remove-lá, pois não irá interferir nas nossas analises.**"
   ]
  },
  {
   "cell_type": "markdown",
   "id": "bef033c1",
   "metadata": {},
   "source": [
    "* Removendo a coluna"
   ]
  },
  {
   "cell_type": "code",
   "execution_count": 4,
   "id": "2c94017c",
   "metadata": {
    "ExecuteTime": {
     "end_time": "2022-03-05T11:06:02.418324Z",
     "start_time": "2022-03-05T11:06:02.402363Z"
    }
   },
   "outputs": [],
   "source": [
    "df.drop(labels='sl_no', axis=1, inplace = True)"
   ]
  },
  {
   "cell_type": "markdown",
   "id": "5e3a2aed",
   "metadata": {},
   "source": [
    "**Verificando algumas informações**"
   ]
  },
  {
   "cell_type": "code",
   "execution_count": 5,
   "id": "0149bf4c",
   "metadata": {
    "ExecuteTime": {
     "end_time": "2022-03-05T11:06:02.450322Z",
     "start_time": "2022-03-05T11:06:02.418324Z"
    }
   },
   "outputs": [
    {
     "name": "stdout",
     "output_type": "stream",
     "text": [
      "<class 'pandas.core.frame.DataFrame'>\n",
      "RangeIndex: 215 entries, 0 to 214\n",
      "Data columns (total 14 columns):\n",
      " #   Column          Non-Null Count  Dtype  \n",
      "---  ------          --------------  -----  \n",
      " 0   gender          215 non-null    object \n",
      " 1   ssc_p           215 non-null    float64\n",
      " 2   ssc_b           215 non-null    object \n",
      " 3   hsc_p           215 non-null    float64\n",
      " 4   hsc_b           215 non-null    object \n",
      " 5   hsc_s           215 non-null    object \n",
      " 6   degree_p        215 non-null    float64\n",
      " 7   degree_t        215 non-null    object \n",
      " 8   workex          215 non-null    object \n",
      " 9   etest_p         215 non-null    float64\n",
      " 10  specialisation  215 non-null    object \n",
      " 11  mba_p           215 non-null    float64\n",
      " 12  status          215 non-null    object \n",
      " 13  salary          148 non-null    float64\n",
      "dtypes: float64(6), object(8)\n",
      "memory usage: 23.6+ KB\n"
     ]
    }
   ],
   "source": [
    "df.info()"
   ]
  },
  {
   "cell_type": "markdown",
   "id": "1848e468",
   "metadata": {},
   "source": [
    "Podemos verificar que a base de dados contém dados nulos apenas na coluna `salary`, por conta do status de empregado no momento.\n",
    "\n",
    "* Iremos fazer o tratamento desses dados mais a frente, onde vamos substituí-los por 0"
   ]
  },
  {
   "cell_type": "code",
   "execution_count": 6,
   "id": "ab597d39",
   "metadata": {
    "ExecuteTime": {
     "end_time": "2022-03-05T11:06:02.490294Z",
     "start_time": "2022-03-05T11:06:02.450322Z"
    }
   },
   "outputs": [
    {
     "data": {
      "text/html": [
       "<div>\n",
       "<style scoped>\n",
       "    .dataframe tbody tr th:only-of-type {\n",
       "        vertical-align: middle;\n",
       "    }\n",
       "\n",
       "    .dataframe tbody tr th {\n",
       "        vertical-align: top;\n",
       "    }\n",
       "\n",
       "    .dataframe thead th {\n",
       "        text-align: right;\n",
       "    }\n",
       "</style>\n",
       "<table border=\"1\" class=\"dataframe\">\n",
       "  <thead>\n",
       "    <tr style=\"text-align: right;\">\n",
       "      <th></th>\n",
       "      <th>ssc_p</th>\n",
       "      <th>hsc_p</th>\n",
       "      <th>degree_p</th>\n",
       "      <th>etest_p</th>\n",
       "      <th>mba_p</th>\n",
       "      <th>salary</th>\n",
       "    </tr>\n",
       "  </thead>\n",
       "  <tbody>\n",
       "    <tr>\n",
       "      <th>count</th>\n",
       "      <td>215.000000</td>\n",
       "      <td>215.000000</td>\n",
       "      <td>215.000000</td>\n",
       "      <td>215.000000</td>\n",
       "      <td>215.000000</td>\n",
       "      <td>148.000000</td>\n",
       "    </tr>\n",
       "    <tr>\n",
       "      <th>mean</th>\n",
       "      <td>67.303395</td>\n",
       "      <td>66.333163</td>\n",
       "      <td>66.370186</td>\n",
       "      <td>72.100558</td>\n",
       "      <td>62.278186</td>\n",
       "      <td>288655.405405</td>\n",
       "    </tr>\n",
       "    <tr>\n",
       "      <th>std</th>\n",
       "      <td>10.827205</td>\n",
       "      <td>10.897509</td>\n",
       "      <td>7.358743</td>\n",
       "      <td>13.275956</td>\n",
       "      <td>5.833385</td>\n",
       "      <td>93457.452420</td>\n",
       "    </tr>\n",
       "    <tr>\n",
       "      <th>min</th>\n",
       "      <td>40.890000</td>\n",
       "      <td>37.000000</td>\n",
       "      <td>50.000000</td>\n",
       "      <td>50.000000</td>\n",
       "      <td>51.210000</td>\n",
       "      <td>200000.000000</td>\n",
       "    </tr>\n",
       "    <tr>\n",
       "      <th>25%</th>\n",
       "      <td>60.600000</td>\n",
       "      <td>60.900000</td>\n",
       "      <td>61.000000</td>\n",
       "      <td>60.000000</td>\n",
       "      <td>57.945000</td>\n",
       "      <td>240000.000000</td>\n",
       "    </tr>\n",
       "    <tr>\n",
       "      <th>50%</th>\n",
       "      <td>67.000000</td>\n",
       "      <td>65.000000</td>\n",
       "      <td>66.000000</td>\n",
       "      <td>71.000000</td>\n",
       "      <td>62.000000</td>\n",
       "      <td>265000.000000</td>\n",
       "    </tr>\n",
       "    <tr>\n",
       "      <th>75%</th>\n",
       "      <td>75.700000</td>\n",
       "      <td>73.000000</td>\n",
       "      <td>72.000000</td>\n",
       "      <td>83.500000</td>\n",
       "      <td>66.255000</td>\n",
       "      <td>300000.000000</td>\n",
       "    </tr>\n",
       "    <tr>\n",
       "      <th>max</th>\n",
       "      <td>89.400000</td>\n",
       "      <td>97.700000</td>\n",
       "      <td>91.000000</td>\n",
       "      <td>98.000000</td>\n",
       "      <td>77.890000</td>\n",
       "      <td>940000.000000</td>\n",
       "    </tr>\n",
       "  </tbody>\n",
       "</table>\n",
       "</div>"
      ],
      "text/plain": [
       "            ssc_p       hsc_p    degree_p     etest_p       mba_p  \\\n",
       "count  215.000000  215.000000  215.000000  215.000000  215.000000   \n",
       "mean    67.303395   66.333163   66.370186   72.100558   62.278186   \n",
       "std     10.827205   10.897509    7.358743   13.275956    5.833385   \n",
       "min     40.890000   37.000000   50.000000   50.000000   51.210000   \n",
       "25%     60.600000   60.900000   61.000000   60.000000   57.945000   \n",
       "50%     67.000000   65.000000   66.000000   71.000000   62.000000   \n",
       "75%     75.700000   73.000000   72.000000   83.500000   66.255000   \n",
       "max     89.400000   97.700000   91.000000   98.000000   77.890000   \n",
       "\n",
       "              salary  \n",
       "count     148.000000  \n",
       "mean   288655.405405  \n",
       "std     93457.452420  \n",
       "min    200000.000000  \n",
       "25%    240000.000000  \n",
       "50%    265000.000000  \n",
       "75%    300000.000000  \n",
       "max    940000.000000  "
      ]
     },
     "execution_count": 6,
     "metadata": {},
     "output_type": "execute_result"
    }
   ],
   "source": [
    "df.describe()"
   ]
  },
  {
   "cell_type": "markdown",
   "id": "ffb6d089",
   "metadata": {},
   "source": [
    "## Tratamento dos dados"
   ]
  },
  {
   "cell_type": "markdown",
   "id": "5123a1e8",
   "metadata": {},
   "source": [
    "**Filtrando os dados:** Removendo aquelas linhas que possuem \"Others\" na coluna \"degree_t\", pois eles correspondem a uma parcela muito pequena, podemos ver esse tipo de dado apenas como uma sujeira para nosso modelo ou até mesmo como um outliers."
   ]
  },
  {
   "cell_type": "code",
   "execution_count": 7,
   "id": "7946b728",
   "metadata": {
    "ExecuteTime": {
     "end_time": "2022-03-05T11:06:02.506287Z",
     "start_time": "2022-03-05T11:06:02.490294Z"
    }
   },
   "outputs": [],
   "source": [
    "df = df[df['degree_t'] != 'Others']"
   ]
  },
  {
   "cell_type": "markdown",
   "id": "b7dff39a",
   "metadata": {},
   "source": [
    "* Imputando 0 nos dados vazios da coluna 'salary'"
   ]
  },
  {
   "cell_type": "code",
   "execution_count": 8,
   "id": "6dc2809d",
   "metadata": {
    "ExecuteTime": {
     "end_time": "2022-03-05T11:06:02.522283Z",
     "start_time": "2022-03-05T11:06:02.506287Z"
    }
   },
   "outputs": [],
   "source": [
    "df['salary'].fillna(0, inplace=True)"
   ]
  },
  {
   "cell_type": "markdown",
   "id": "5db9ff5c",
   "metadata": {},
   "source": [
    "Irei separar os alunos em 2 grupos: entre aqueles que ganham mais que a mediana dos salários e aqueles que ganham menos."
   ]
  },
  {
   "cell_type": "code",
   "execution_count": 9,
   "id": "e9c5ada9",
   "metadata": {
    "ExecuteTime": {
     "end_time": "2022-03-05T11:06:02.546271Z",
     "start_time": "2022-03-05T11:06:02.522283Z"
    }
   },
   "outputs": [
    {
     "data": {
      "text/plain": [
       "count       204.000000\n",
       "mean     202544.117647\n",
       "std      154464.984840\n",
       "min           0.000000\n",
       "25%           0.000000\n",
       "50%      240000.000000\n",
       "75%      285500.000000\n",
       "max      940000.000000\n",
       "Name: salary, dtype: float64"
      ]
     },
     "execution_count": 9,
     "metadata": {},
     "output_type": "execute_result"
    }
   ],
   "source": [
    "df['salary'].describe()"
   ]
  },
  {
   "cell_type": "markdown",
   "id": "17a8204f",
   "metadata": {},
   "source": [
    "A mediana é 240.000\n",
    "\n",
    "* Separando os grupos"
   ]
  },
  {
   "cell_type": "code",
   "execution_count": 10,
   "id": "83c31456",
   "metadata": {
    "ExecuteTime": {
     "end_time": "2022-03-05T11:06:02.562264Z",
     "start_time": "2022-03-05T11:06:02.546271Z"
    }
   },
   "outputs": [],
   "source": [
    "df.loc[df['salary'] < 240000, 'salary'] = 0\n",
    "df.loc[df['salary'] >= 240000, 'salary'] = 1"
   ]
  },
  {
   "cell_type": "code",
   "execution_count": 11,
   "id": "fa0cd3d0",
   "metadata": {
    "ExecuteTime": {
     "end_time": "2022-03-05T11:06:02.586255Z",
     "start_time": "2022-03-05T11:06:02.562264Z"
    }
   },
   "outputs": [
    {
     "data": {
      "text/plain": [
       "array([1., 0.])"
      ]
     },
     "execution_count": 11,
     "metadata": {},
     "output_type": "execute_result"
    }
   ],
   "source": [
    "df['salary'].unique()"
   ]
  },
  {
   "cell_type": "markdown",
   "id": "ad3ebbc6",
   "metadata": {},
   "source": [
    "Agora, irei tratar os dados categóricos com a função do pandas `pd.get_dummies()`. Ela cria novas colunas para cada tipo de valor que temos em uma determinada coluna."
   ]
  },
  {
   "cell_type": "code",
   "execution_count": 12,
   "id": "f5dc71ab",
   "metadata": {
    "ExecuteTime": {
     "end_time": "2022-03-05T11:06:02.610252Z",
     "start_time": "2022-03-05T11:06:02.586255Z"
    }
   },
   "outputs": [],
   "source": [
    "df_dummy = pd.get_dummies(df)"
   ]
  },
  {
   "cell_type": "code",
   "execution_count": 13,
   "id": "023c4b82",
   "metadata": {
    "ExecuteTime": {
     "end_time": "2022-03-05T11:06:02.642232Z",
     "start_time": "2022-03-05T11:06:02.610252Z"
    }
   },
   "outputs": [
    {
     "data": {
      "text/html": [
       "<div>\n",
       "<style scoped>\n",
       "    .dataframe tbody tr th:only-of-type {\n",
       "        vertical-align: middle;\n",
       "    }\n",
       "\n",
       "    .dataframe tbody tr th {\n",
       "        vertical-align: top;\n",
       "    }\n",
       "\n",
       "    .dataframe thead th {\n",
       "        text-align: right;\n",
       "    }\n",
       "</style>\n",
       "<table border=\"1\" class=\"dataframe\">\n",
       "  <thead>\n",
       "    <tr style=\"text-align: right;\">\n",
       "      <th></th>\n",
       "      <th>ssc_p</th>\n",
       "      <th>hsc_p</th>\n",
       "      <th>degree_p</th>\n",
       "      <th>etest_p</th>\n",
       "      <th>mba_p</th>\n",
       "      <th>salary</th>\n",
       "      <th>gender_F</th>\n",
       "      <th>gender_M</th>\n",
       "      <th>ssc_b_Central</th>\n",
       "      <th>ssc_b_Others</th>\n",
       "      <th>...</th>\n",
       "      <th>hsc_s_Commerce</th>\n",
       "      <th>hsc_s_Science</th>\n",
       "      <th>degree_t_Comm&amp;Mgmt</th>\n",
       "      <th>degree_t_Sci&amp;Tech</th>\n",
       "      <th>workex_No</th>\n",
       "      <th>workex_Yes</th>\n",
       "      <th>specialisation_Mkt&amp;Fin</th>\n",
       "      <th>specialisation_Mkt&amp;HR</th>\n",
       "      <th>status_Not Placed</th>\n",
       "      <th>status_Placed</th>\n",
       "    </tr>\n",
       "  </thead>\n",
       "  <tbody>\n",
       "    <tr>\n",
       "      <th>0</th>\n",
       "      <td>67.00</td>\n",
       "      <td>91.00</td>\n",
       "      <td>58.00</td>\n",
       "      <td>55.0</td>\n",
       "      <td>58.80</td>\n",
       "      <td>1.0</td>\n",
       "      <td>0</td>\n",
       "      <td>1</td>\n",
       "      <td>0</td>\n",
       "      <td>1</td>\n",
       "      <td>...</td>\n",
       "      <td>1</td>\n",
       "      <td>0</td>\n",
       "      <td>0</td>\n",
       "      <td>1</td>\n",
       "      <td>1</td>\n",
       "      <td>0</td>\n",
       "      <td>0</td>\n",
       "      <td>1</td>\n",
       "      <td>0</td>\n",
       "      <td>1</td>\n",
       "    </tr>\n",
       "    <tr>\n",
       "      <th>1</th>\n",
       "      <td>79.33</td>\n",
       "      <td>78.33</td>\n",
       "      <td>77.48</td>\n",
       "      <td>86.5</td>\n",
       "      <td>66.28</td>\n",
       "      <td>0.0</td>\n",
       "      <td>0</td>\n",
       "      <td>1</td>\n",
       "      <td>1</td>\n",
       "      <td>0</td>\n",
       "      <td>...</td>\n",
       "      <td>0</td>\n",
       "      <td>1</td>\n",
       "      <td>0</td>\n",
       "      <td>1</td>\n",
       "      <td>0</td>\n",
       "      <td>1</td>\n",
       "      <td>1</td>\n",
       "      <td>0</td>\n",
       "      <td>0</td>\n",
       "      <td>1</td>\n",
       "    </tr>\n",
       "    <tr>\n",
       "      <th>2</th>\n",
       "      <td>65.00</td>\n",
       "      <td>68.00</td>\n",
       "      <td>64.00</td>\n",
       "      <td>75.0</td>\n",
       "      <td>57.80</td>\n",
       "      <td>1.0</td>\n",
       "      <td>0</td>\n",
       "      <td>1</td>\n",
       "      <td>1</td>\n",
       "      <td>0</td>\n",
       "      <td>...</td>\n",
       "      <td>0</td>\n",
       "      <td>0</td>\n",
       "      <td>1</td>\n",
       "      <td>0</td>\n",
       "      <td>1</td>\n",
       "      <td>0</td>\n",
       "      <td>1</td>\n",
       "      <td>0</td>\n",
       "      <td>0</td>\n",
       "      <td>1</td>\n",
       "    </tr>\n",
       "    <tr>\n",
       "      <th>3</th>\n",
       "      <td>56.00</td>\n",
       "      <td>52.00</td>\n",
       "      <td>52.00</td>\n",
       "      <td>66.0</td>\n",
       "      <td>59.43</td>\n",
       "      <td>0.0</td>\n",
       "      <td>0</td>\n",
       "      <td>1</td>\n",
       "      <td>1</td>\n",
       "      <td>0</td>\n",
       "      <td>...</td>\n",
       "      <td>0</td>\n",
       "      <td>1</td>\n",
       "      <td>0</td>\n",
       "      <td>1</td>\n",
       "      <td>1</td>\n",
       "      <td>0</td>\n",
       "      <td>0</td>\n",
       "      <td>1</td>\n",
       "      <td>1</td>\n",
       "      <td>0</td>\n",
       "    </tr>\n",
       "    <tr>\n",
       "      <th>4</th>\n",
       "      <td>85.80</td>\n",
       "      <td>73.60</td>\n",
       "      <td>73.30</td>\n",
       "      <td>96.8</td>\n",
       "      <td>55.50</td>\n",
       "      <td>1.0</td>\n",
       "      <td>0</td>\n",
       "      <td>1</td>\n",
       "      <td>1</td>\n",
       "      <td>0</td>\n",
       "      <td>...</td>\n",
       "      <td>1</td>\n",
       "      <td>0</td>\n",
       "      <td>1</td>\n",
       "      <td>0</td>\n",
       "      <td>1</td>\n",
       "      <td>0</td>\n",
       "      <td>1</td>\n",
       "      <td>0</td>\n",
       "      <td>0</td>\n",
       "      <td>1</td>\n",
       "    </tr>\n",
       "  </tbody>\n",
       "</table>\n",
       "<p>5 rows × 23 columns</p>\n",
       "</div>"
      ],
      "text/plain": [
       "   ssc_p  hsc_p  degree_p  etest_p  mba_p  salary  gender_F  gender_M  \\\n",
       "0  67.00  91.00     58.00     55.0  58.80     1.0         0         1   \n",
       "1  79.33  78.33     77.48     86.5  66.28     0.0         0         1   \n",
       "2  65.00  68.00     64.00     75.0  57.80     1.0         0         1   \n",
       "3  56.00  52.00     52.00     66.0  59.43     0.0         0         1   \n",
       "4  85.80  73.60     73.30     96.8  55.50     1.0         0         1   \n",
       "\n",
       "   ssc_b_Central  ssc_b_Others  ...  hsc_s_Commerce  hsc_s_Science  \\\n",
       "0              0             1  ...               1              0   \n",
       "1              1             0  ...               0              1   \n",
       "2              1             0  ...               0              0   \n",
       "3              1             0  ...               0              1   \n",
       "4              1             0  ...               1              0   \n",
       "\n",
       "   degree_t_Comm&Mgmt  degree_t_Sci&Tech  workex_No  workex_Yes  \\\n",
       "0                   0                  1          1           0   \n",
       "1                   0                  1          0           1   \n",
       "2                   1                  0          1           0   \n",
       "3                   0                  1          1           0   \n",
       "4                   1                  0          1           0   \n",
       "\n",
       "   specialisation_Mkt&Fin  specialisation_Mkt&HR  status_Not Placed  \\\n",
       "0                       0                      1                  0   \n",
       "1                       1                      0                  0   \n",
       "2                       1                      0                  0   \n",
       "3                       0                      1                  1   \n",
       "4                       1                      0                  0   \n",
       "\n",
       "   status_Placed  \n",
       "0              1  \n",
       "1              1  \n",
       "2              1  \n",
       "3              0  \n",
       "4              1  \n",
       "\n",
       "[5 rows x 23 columns]"
      ]
     },
     "execution_count": 13,
     "metadata": {},
     "output_type": "execute_result"
    }
   ],
   "source": [
    "df_dummy.head()"
   ]
  },
  {
   "cell_type": "markdown",
   "id": "e0e765cb",
   "metadata": {},
   "source": [
    "## Análise Gráfica"
   ]
  },
  {
   "cell_type": "markdown",
   "id": "5c4bbd53",
   "metadata": {},
   "source": [
    "* Matriz de Correlação"
   ]
  },
  {
   "cell_type": "code",
   "execution_count": 14,
   "id": "c71a8732",
   "metadata": {
    "ExecuteTime": {
     "end_time": "2022-03-05T11:06:03.074373Z",
     "start_time": "2022-03-05T11:06:02.642232Z"
    }
   },
   "outputs": [
    {
     "data": {
      "image/png": "[encoded data removed]",
      "text/plain": [
       "<Figure size 576x360 with 2 Axes>"
      ]
     },
     "metadata": {
      "needs_background": "light"
     },
     "output_type": "display_data"
    }
   ],
   "source": [
    "# Configurações do layout\n",
    "fig, ax = plt.subplots(figsize=(8, 5))\n",
    "# atribuindo dados ao gráfico\n",
    "ax = sns.heatmap(df.corr(), annot = True, linewidths=0.4, vmin=-1, vmax=1)\n",
    "# configurações dos eixos\n",
    "plt.xticks(size=12)\n",
    "plt.yticks(size=12)\n",
    "#setando a melhor visualização\n",
    "fig.tight_layout()"
   ]
  },
  {
   "cell_type": "markdown",
   "id": "7d87c2cc",
   "metadata": {},
   "source": [
    "Note que a coluna `salary` tem maior correlação com as colunas `ssc_p: Nota do ensino fundamental` e `hsc_p: Nota do ensino Médio`\n",
    "\n",
    "* Lembrando ainda que `correlação` não implica em `causalidade`\n"
   ]
  },
  {
   "cell_type": "markdown",
   "id": "4d2a9245",
   "metadata": {},
   "source": [
    "Agora irei plotar um gráfico de correlação para poder ver mais a fundo a correlação dessas variáveis."
   ]
  },
  {
   "cell_type": "code",
   "execution_count": 15,
   "id": "524a1b42",
   "metadata": {
    "ExecuteTime": {
     "end_time": "2022-03-05T11:06:03.282280Z",
     "start_time": "2022-03-05T11:06:03.074373Z"
    },
    "scrolled": false
   },
   "outputs": [
    {
     "data": {
      "image/png": "[encoded data removed]",
      "text/plain": [
       "<Figure size 864x360 with 1 Axes>"
      ]
     },
     "metadata": {},
     "output_type": "display_data"
    }
   ],
   "source": [
    "# Configurações do layout\n",
    "plt.style.use('seaborn')\n",
    "plt.subplots(figsize=(12, 5))\n",
    "# atribuindo dados ao gráfico\n",
    "sns.scatterplot(data=df, x='ssc_p', y='hsc_p', hue='salary', style=\"salary\")\n",
    "# setando a melhor visualização\n",
    "plt.grid(visible=True)\n",
    "plt.tight_layout()"
   ]
  },
  {
   "cell_type": "code",
   "execution_count": 16,
   "id": "2d53f5d5",
   "metadata": {
    "ExecuteTime": {
     "end_time": "2022-03-05T11:06:03.530193Z",
     "start_time": "2022-03-05T11:06:03.282280Z"
    }
   },
   "outputs": [
    {
     "data": {
      "image/png": "[encoded data removed]",
      "text/plain": [
       "<Figure size 864x360 with 1 Axes>"
      ]
     },
     "metadata": {},
     "output_type": "display_data"
    }
   ],
   "source": [
    "# Configurações do layout\n",
    "plt.style.use('seaborn')\n",
    "plt.subplots(figsize=(12, 5))\n",
    "# atribuindo dados ao gráfico\n",
    "sns.scatterplot(data=df, x='ssc_p', y='degree_p', hue='salary', style=\"salary\")\n",
    "# setando a melhor visualização\n",
    "plt.tight_layout()"
   ]
  },
  {
   "cell_type": "markdown",
   "id": "a8e3711b",
   "metadata": {},
   "source": [
    "`0.0 < Mediana`\n",
    "\n",
    "`1.0 > Mediana`\n",
    "\n",
    "* Com essas duas visualizações acima podemos ver que quanto mais as notas crescem, maior é o numero de pessoas que recebem um salário acima da mediana. "
   ]
  },
  {
   "cell_type": "markdown",
   "id": "6d3506a5",
   "metadata": {},
   "source": [
    "## Aplicando modelo de Machine Learning: KNN"
   ]
  },
  {
   "cell_type": "markdown",
   "id": "2dfe28e0",
   "metadata": {},
   "source": [
    "Antes de criar nosso modelo, precisamos definir quais colunas são de \"características\" e qual coluna queremos prever.\n",
    "\n",
    "Ou seja, vamos definir as colunas de features (X) e targets (y)\n",
    "\n",
    "Features (Aspectos) x Target (Alvo)"
   ]
  },
  {
   "cell_type": "code",
   "execution_count": 17,
   "id": "867d9903",
   "metadata": {
    "ExecuteTime": {
     "end_time": "2022-03-05T11:06:03.546171Z",
     "start_time": "2022-03-05T11:06:03.530193Z"
    }
   },
   "outputs": [],
   "source": [
    "# Colunas dos \"features\" -> são todas as colunas menos a coluna salário\n",
    "# Note que deve ser um array em numpy\n",
    "X = np.array(df_dummy.drop(labels=['salary'], axis=1))\n",
    "\n",
    "# Colunas do \"target\" - > deve ser a salary\n",
    "y = np.array(df_dummy['salary'])"
   ]
  },
  {
   "cell_type": "markdown",
   "id": "0cec8ce3",
   "metadata": {},
   "source": [
    "* Verificando a forma dos dados"
   ]
  },
  {
   "cell_type": "code",
   "execution_count": 18,
   "id": "45f8414c",
   "metadata": {
    "ExecuteTime": {
     "end_time": "2022-03-05T11:06:03.562164Z",
     "start_time": "2022-03-05T11:06:03.546171Z"
    }
   },
   "outputs": [
    {
     "data": {
      "text/plain": [
       "array([[67.  , 91.  , 58.  , ...,  1.  ,  0.  ,  1.  ],\n",
       "       [79.33, 78.33, 77.48, ...,  0.  ,  0.  ,  1.  ],\n",
       "       [65.  , 68.  , 64.  , ...,  0.  ,  0.  ,  1.  ],\n",
       "       ...,\n",
       "       [67.  , 67.  , 73.  , ...,  0.  ,  0.  ,  1.  ],\n",
       "       [74.  , 66.  , 58.  , ...,  1.  ,  0.  ,  1.  ],\n",
       "       [62.  , 58.  , 53.  , ...,  1.  ,  1.  ,  0.  ]])"
      ]
     },
     "metadata": {},
     "output_type": "display_data"
    },
    {
     "data": {
      "text/plain": [
       "array([1., 0., 1., 0., 1., 0., 0., 1., 0., 0., 1., 1., 0., 0., 0., 0., 1.,\n",
       "       0., 0., 0., 1., 1., 1., 1., 1., 0., 1., 1., 1., 0., 1., 0., 1., 1.,\n",
       "       1., 0., 1., 1., 1., 1., 0., 1., 0., 0., 0., 0., 1., 0., 0., 0., 1.,\n",
       "       0., 0., 1., 1., 1., 1., 1., 1., 1., 0., 1., 0., 1., 1., 0., 1., 1.,\n",
       "       1., 1., 0., 1., 0., 0., 1., 1., 0., 1., 1., 0., 1., 1., 1., 0., 0.,\n",
       "       0., 1., 0., 0., 0., 1., 1., 1., 0., 0., 0., 0., 1., 1., 1., 1., 0.,\n",
       "       0., 0., 1., 0., 1., 0., 1., 1., 1., 0., 1., 1., 1., 1., 0., 1., 0.,\n",
       "       1., 1., 0., 1., 1., 1., 0., 1., 1., 1., 0., 0., 0., 1., 0., 1., 0.,\n",
       "       1., 1., 0., 1., 0., 1., 0., 1., 1., 1., 1., 1., 0., 1., 1., 0., 0.,\n",
       "       1., 0., 1., 1., 1., 0., 1., 0., 0., 0., 0., 1., 1., 0., 1., 0., 0.,\n",
       "       1., 1., 0., 1., 0., 1., 0., 0., 1., 0., 0., 0., 1., 1., 0., 1., 1.,\n",
       "       1., 1., 1., 0., 1., 1., 0., 1., 0., 1., 0., 0., 1., 1., 1., 0., 0.])"
      ]
     },
     "metadata": {},
     "output_type": "display_data"
    }
   ],
   "source": [
    "display(X, y)"
   ]
  },
  {
   "cell_type": "markdown",
   "id": "306c8112",
   "metadata": {},
   "source": [
    "Além disso, para não enviesarmos nosso modelo precisamos separar nosso Dataset em Treino e Teste. \n",
    "\n",
    "Faça isso com a função `model_selection.train_test_split()`. \n",
    "* Ela te devolve 4 coisas: 2 datasets de treino (features e targets) e 2 datasets de teste (features e targets)"
   ]
  },
  {
   "cell_type": "code",
   "execution_count": 19,
   "id": "7c5cbb13",
   "metadata": {
    "ExecuteTime": {
     "end_time": "2022-03-05T11:06:03.586154Z",
     "start_time": "2022-03-05T11:06:03.562164Z"
    }
   },
   "outputs": [],
   "source": [
    "X_train, X_test, y_train, y_test = model_selection.train_test_split(X, y, test_size = 0.2, random_state=0)"
   ]
  },
  {
   "cell_type": "markdown",
   "id": "11020875",
   "metadata": {},
   "source": [
    "*  Verificando os dados"
   ]
  },
  {
   "cell_type": "code",
   "execution_count": 20,
   "id": "33882da0",
   "metadata": {
    "ExecuteTime": {
     "end_time": "2022-03-05T11:06:03.602156Z",
     "start_time": "2022-03-05T11:06:03.586154Z"
    }
   },
   "outputs": [
    {
     "data": {
      "text/plain": [
       "((163, 22), (41, 22))"
      ]
     },
     "execution_count": 20,
     "metadata": {},
     "output_type": "execute_result"
    }
   ],
   "source": [
    "X_train.shape,X_test.shape"
   ]
  },
  {
   "cell_type": "code",
   "execution_count": 21,
   "id": "c2bed084",
   "metadata": {
    "ExecuteTime": {
     "end_time": "2022-03-05T11:06:03.626137Z",
     "start_time": "2022-03-05T11:06:03.602156Z"
    }
   },
   "outputs": [
    {
     "data": {
      "text/plain": [
       "((163,), (41,))"
      ]
     },
     "execution_count": 21,
     "metadata": {},
     "output_type": "execute_result"
    }
   ],
   "source": [
    "y_train.shape,y_test.shape"
   ]
  },
  {
   "cell_type": "markdown",
   "id": "c03f6115",
   "metadata": {},
   "source": [
    "Como o algoritmo KNN depende muito das distâncias entre os pontos, é bom normalizarmos nossos valores para aumentar nossa precisão!\n",
    "\n",
    "Para isso, aribua a função `StandardScaler()` à variável sc_X:"
   ]
  },
  {
   "cell_type": "code",
   "execution_count": 22,
   "id": "9db8e8c4",
   "metadata": {
    "ExecuteTime": {
     "end_time": "2022-03-05T11:06:03.642137Z",
     "start_time": "2022-03-05T11:06:03.626137Z"
    }
   },
   "outputs": [],
   "source": [
    "sc_X = StandardScaler()\n",
    "X_train = sc_X.fit_transform(X_train)\n",
    "X_test = sc_X.transform(X_test)"
   ]
  },
  {
   "cell_type": "markdown",
   "id": "ce33868c",
   "metadata": {},
   "source": [
    "### Otimizando o Parametro K"
   ]
  },
  {
   "cell_type": "markdown",
   "id": "26e73066",
   "metadata": {},
   "source": [
    "* **Antes de Continuarmos com nosso modelos, irei realizar uma Otimização pra encontrar o nosso K 'perfeito'.**\n",
    "\n",
    "O intuito é buscamos otimizar nossos parâmetros do algoritmo, quando por exemplo não temos ideia de qual K possa ser o melhor, qual a métrica de distância que nos retorna a melhor acurácia e assim por diante."
   ]
  },
  {
   "cell_type": "markdown",
   "id": "fd586c8b",
   "metadata": {},
   "source": [
    "Importando o GridSearch e instanciando KNeighborsClassifier"
   ]
  },
  {
   "cell_type": "code",
   "execution_count": 23,
   "id": "f58830fa",
   "metadata": {
    "ExecuteTime": {
     "end_time": "2022-03-05T11:06:03.650126Z",
     "start_time": "2022-03-05T11:06:03.642137Z"
    }
   },
   "outputs": [],
   "source": [
    "from sklearn.model_selection import GridSearchCV\n",
    "knn = neighbors.KNeighborsClassifier()"
   ]
  },
  {
   "cell_type": "markdown",
   "id": "0fa2650a",
   "metadata": {},
   "source": [
    "Definindo a lista de valores para o parametro "
   ]
  },
  {
   "cell_type": "code",
   "execution_count": 24,
   "id": "7acb46a4",
   "metadata": {
    "ExecuteTime": {
     "end_time": "2022-03-05T11:06:03.666129Z",
     "start_time": "2022-03-05T11:06:03.650126Z"
    }
   },
   "outputs": [
    {
     "name": "stdout",
     "output_type": "stream",
     "text": [
      "{'n_neighbors': [1, 2, 3, 4, 5, 6, 7, 8, 9, 10, 11, 12, 13, 14, 15, 16, 17, 18, 19, 20, 21, 22, 23, 24, 25, 26, 27, 28, 29, 30]}\n"
     ]
    }
   ],
   "source": [
    "k_list = list(range(1,31))\n",
    "k_values = dict(n_neighbors=k_list)\n",
    "print(k_values)"
   ]
  },
  {
   "cell_type": "markdown",
   "id": "3f5d9b48",
   "metadata": {},
   "source": [
    "Instanciando o objeto GridSearch"
   ]
  },
  {
   "cell_type": "code",
   "execution_count": 25,
   "id": "27380792",
   "metadata": {
    "ExecuteTime": {
     "end_time": "2022-03-05T11:06:03.682124Z",
     "start_time": "2022-03-05T11:06:03.666129Z"
    }
   },
   "outputs": [],
   "source": [
    "grid = GridSearchCV(knn, k_values, cv=5, scoring='accuracy')"
   ]
  },
  {
   "cell_type": "markdown",
   "id": "fa51a343",
   "metadata": {},
   "source": [
    "**Treinando o objeto**"
   ]
  },
  {
   "cell_type": "code",
   "execution_count": 26,
   "id": "abf9fe9f",
   "metadata": {
    "ExecuteTime": {
     "end_time": "2022-03-05T11:06:04.676914Z",
     "start_time": "2022-03-05T11:06:03.682124Z"
    }
   },
   "outputs": [
    {
     "data": {
      "text/plain": [
       "GridSearchCV(cv=5, estimator=KNeighborsClassifier(),\n",
       "             param_grid={'n_neighbors': [1, 2, 3, 4, 5, 6, 7, 8, 9, 10, 11, 12,\n",
       "                                         13, 14, 15, 16, 17, 18, 19, 20, 21, 22,\n",
       "                                         23, 24, 25, 26, 27, 28, 29, 30]},\n",
       "             scoring='accuracy')"
      ]
     },
     "execution_count": 26,
     "metadata": {},
     "output_type": "execute_result"
    }
   ],
   "source": [
    "grid.fit(df_dummy.drop(labels=['salary'], axis=1),df_dummy['salary'])"
   ]
  },
  {
   "cell_type": "markdown",
   "id": "c55fe297",
   "metadata": {},
   "source": [
    "Visualizando os valores de scores"
   ]
  },
  {
   "cell_type": "code",
   "execution_count": 27,
   "id": "78c25eb2",
   "metadata": {
    "ExecuteTime": {
     "end_time": "2022-03-05T11:06:04.708905Z",
     "start_time": "2022-03-05T11:06:04.676914Z"
    }
   },
   "outputs": [
    {
     "data": {
      "text/plain": [
       "{'mean_fit_time': array([0.00319891, 0.00479283, 0.00479627, 0.00479388, 0.00319963,\n",
       "        0.0031971 , 0.00159912, 0.00319653, 0.00319786, 0.00160022,\n",
       "        0.0015996 , 0.        , 0.00159721, 0.00159898, 0.00319881,\n",
       "        0.00080371, 0.        , 0.00312262, 0.00624943, 0.        ,\n",
       "        0.00159936, 0.00319843, 0.00159926, 0.00479798, 0.        ,\n",
       "        0.        , 0.00624933, 0.        , 0.        , 0.        ]),\n",
       " 'std_fit_time': array([0.00391785, 0.00391335, 0.00391615, 0.0039142 , 0.00391873,\n",
       "        0.00391563, 0.00319824, 0.00391493, 0.00391656, 0.00320044,\n",
       "        0.0031992 , 0.        , 0.00319443, 0.00319796, 0.00391773,\n",
       "        0.00160742, 0.        , 0.00624523, 0.00765395, 0.        ,\n",
       "        0.00319872, 0.00391726, 0.00319853, 0.00391754, 0.        ,\n",
       "        0.        , 0.00765384, 0.        , 0.        , 0.        ]),\n",
       " 'mean_score_time': array([0.00640111, 0.00639863, 0.00639734, 0.00480261, 0.00319872,\n",
       "        0.00319843, 0.0047998 , 0.00159965, 0.00320086, 0.00320597,\n",
       "        0.0031991 , 0.00639729, 0.0032002 , 0.00479841, 0.00159917,\n",
       "        0.00472598, 0.00312448, 0.00312486, 0.        , 0.00687456,\n",
       "        0.00479798, 0.00159931, 0.00319905, 0.00159941, 0.00624962,\n",
       "        0.00312471, 0.        , 0.00625043, 0.0062479 , 0.00312448]),\n",
       " 'std_score_time': array([0.00320058, 0.00319932, 0.00319868, 0.00392132, 0.00391762,\n",
       "        0.00391726, 0.00391902, 0.00319929, 0.00392024, 0.0039265 ,\n",
       "        0.00391808, 0.00319865, 0.00391943, 0.00391789, 0.00319834,\n",
       "        0.00627183, 0.00624895, 0.00624971, 0.        , 0.00612131,\n",
       "        0.00391758, 0.00319862, 0.00391802, 0.00319881, 0.00765419,\n",
       "        0.00624943, 0.        , 0.00765518, 0.00765209, 0.00624895]),\n",
       " 'param_n_neighbors': masked_array(data=[1, 2, 3, 4, 5, 6, 7, 8, 9, 10, 11, 12, 13, 14, 15, 16,\n",
       "                    17, 18, 19, 20, 21, 22, 23, 24, 25, 26, 27, 28, 29, 30],\n",
       "              mask=[False, False, False, False, False, False, False, False,\n",
       "                    False, False, False, False, False, False, False, False,\n",
       "                    False, False, False, False, False, False, False, False,\n",
       "                    False, False, False, False, False, False],\n",
       "        fill_value='?',\n",
       "             dtype=object),\n",
       " 'params': [{'n_neighbors': 1},\n",
       "  {'n_neighbors': 2},\n",
       "  {'n_neighbors': 3},\n",
       "  {'n_neighbors': 4},\n",
       "  {'n_neighbors': 5},\n",
       "  {'n_neighbors': 6},\n",
       "  {'n_neighbors': 7},\n",
       "  {'n_neighbors': 8},\n",
       "  {'n_neighbors': 9},\n",
       "  {'n_neighbors': 10},\n",
       "  {'n_neighbors': 11},\n",
       "  {'n_neighbors': 12},\n",
       "  {'n_neighbors': 13},\n",
       "  {'n_neighbors': 14},\n",
       "  {'n_neighbors': 15},\n",
       "  {'n_neighbors': 16},\n",
       "  {'n_neighbors': 17},\n",
       "  {'n_neighbors': 18},\n",
       "  {'n_neighbors': 19},\n",
       "  {'n_neighbors': 20},\n",
       "  {'n_neighbors': 21},\n",
       "  {'n_neighbors': 22},\n",
       "  {'n_neighbors': 23},\n",
       "  {'n_neighbors': 24},\n",
       "  {'n_neighbors': 25},\n",
       "  {'n_neighbors': 26},\n",
       "  {'n_neighbors': 27},\n",
       "  {'n_neighbors': 28},\n",
       "  {'n_neighbors': 29},\n",
       "  {'n_neighbors': 30}],\n",
       " 'split0_test_score': array([0.58536585, 0.63414634, 0.68292683, 0.68292683, 0.68292683,\n",
       "        0.68292683, 0.75609756, 0.65853659, 0.75609756, 0.70731707,\n",
       "        0.70731707, 0.70731707, 0.73170732, 0.70731707, 0.7804878 ,\n",
       "        0.75609756, 0.80487805, 0.82926829, 0.80487805, 0.7804878 ,\n",
       "        0.82926829, 0.80487805, 0.80487805, 0.82926829, 0.80487805,\n",
       "        0.80487805, 0.82926829, 0.82926829, 0.80487805, 0.75609756]),\n",
       " 'split1_test_score': array([0.51219512, 0.6097561 , 0.6097561 , 0.65853659, 0.63414634,\n",
       "        0.68292683, 0.70731707, 0.65853659, 0.63414634, 0.6097561 ,\n",
       "        0.63414634, 0.65853659, 0.65853659, 0.63414634, 0.63414634,\n",
       "        0.58536585, 0.65853659, 0.63414634, 0.65853659, 0.63414634,\n",
       "        0.6097561 , 0.63414634, 0.6097561 , 0.63414634, 0.63414634,\n",
       "        0.65853659, 0.65853659, 0.63414634, 0.65853659, 0.65853659]),\n",
       " 'split2_test_score': array([0.63414634, 0.56097561, 0.65853659, 0.6097561 , 0.70731707,\n",
       "        0.63414634, 0.68292683, 0.6097561 , 0.73170732, 0.75609756,\n",
       "        0.7804878 , 0.75609756, 0.70731707, 0.73170732, 0.70731707,\n",
       "        0.70731707, 0.70731707, 0.68292683, 0.70731707, 0.65853659,\n",
       "        0.70731707, 0.65853659, 0.68292683, 0.70731707, 0.65853659,\n",
       "        0.6097561 , 0.65853659, 0.6097561 , 0.65853659, 0.63414634]),\n",
       " 'split3_test_score': array([0.65853659, 0.65853659, 0.75609756, 0.70731707, 0.70731707,\n",
       "        0.70731707, 0.73170732, 0.70731707, 0.68292683, 0.68292683,\n",
       "        0.68292683, 0.70731707, 0.70731707, 0.65853659, 0.73170732,\n",
       "        0.68292683, 0.70731707, 0.73170732, 0.75609756, 0.75609756,\n",
       "        0.75609756, 0.73170732, 0.73170732, 0.70731707, 0.65853659,\n",
       "        0.68292683, 0.73170732, 0.73170732, 0.73170732, 0.75609756]),\n",
       " 'split4_test_score': array([0.6  , 0.5  , 0.6  , 0.5  , 0.675, 0.625, 0.675, 0.65 , 0.675,\n",
       "        0.675, 0.675, 0.7  , 0.65 , 0.65 , 0.675, 0.675, 0.725, 0.725,\n",
       "        0.7  , 0.7  , 0.7  , 0.7  , 0.675, 0.675, 0.7  , 0.65 , 0.675,\n",
       "        0.675, 0.65 , 0.675]),\n",
       " 'mean_test_score': array([0.59804878, 0.59268293, 0.66146341, 0.63170732, 0.68134146,\n",
       "        0.66646341, 0.71060976, 0.65682927, 0.69597561, 0.68621951,\n",
       "        0.69597561, 0.70585366, 0.69097561, 0.67634146, 0.70573171,\n",
       "        0.68134146, 0.72060976, 0.72060976, 0.72536585, 0.70585366,\n",
       "        0.7204878 , 0.70585366, 0.70085366, 0.71060976, 0.69121951,\n",
       "        0.68121951, 0.71060976, 0.69597561, 0.70073171, 0.69597561]),\n",
       " 'std_test_score': array([0.04999465, 0.0564675 , 0.05634938, 0.07333315, 0.02690566,\n",
       "        0.03154272, 0.03019764, 0.03103988, 0.04318451, 0.04756348,\n",
       "        0.04838191, 0.03099001, 0.03138296, 0.03692203, 0.04966814,\n",
       "        0.05570862, 0.04759598, 0.06456784, 0.05040231, 0.05569527,\n",
       "        0.07204995, 0.0598153 , 0.06490234, 0.06514022, 0.06064496,\n",
       "        0.06616727, 0.06514022, 0.07840961, 0.05990077, 0.05078152]),\n",
       " 'rank_test_score': array([29, 30, 26, 28, 22, 25,  5, 27, 14, 20, 14,  8, 19, 24, 11, 21,  2,\n",
       "         2,  1,  8,  4,  8, 12,  5, 18, 23,  5, 16, 13, 16])}"
      ]
     },
     "execution_count": 27,
     "metadata": {},
     "output_type": "execute_result"
    }
   ],
   "source": [
    "grid.cv_results_"
   ]
  },
  {
   "cell_type": "code",
   "execution_count": 28,
   "id": "e7342c06",
   "metadata": {
    "ExecuteTime": {
     "end_time": "2022-03-05T11:06:04.724911Z",
     "start_time": "2022-03-05T11:06:04.708905Z"
    }
   },
   "outputs": [
    {
     "name": "stdout",
     "output_type": "stream",
     "text": [
      "Melhor valor de k = {'n_neighbors': 19} com o valor 0.7253658536585366 de acurácia\n"
     ]
    }
   ],
   "source": [
    "print(\"Melhor valor de k = {} com o valor {} de acurácia\".format(grid.best_params_,grid.best_score_))"
   ]
  },
  {
   "cell_type": "markdown",
   "id": "8687561c",
   "metadata": {},
   "source": [
    "* **Visualização dos valores de K e acurácia**"
   ]
  },
  {
   "cell_type": "code",
   "execution_count": 29,
   "id": "2333ddc0",
   "metadata": {
    "ExecuteTime": {
     "end_time": "2022-03-05T11:06:04.916813Z",
     "start_time": "2022-03-05T11:06:04.724911Z"
    }
   },
   "outputs": [
    {
     "data": {
      "image/png": "[encoded data removed]",
      "text/plain": [
       "<Figure size 864x360 with 1 Axes>"
      ]
     },
     "metadata": {},
     "output_type": "display_data"
    }
   ],
   "source": [
    "scores=[]\n",
    "results = grid.cv_results_\n",
    "for mean in results['mean_test_score']:\n",
    "    scores.append(mean)\n",
    "\n",
    "\n",
    "# Configurações do layout\n",
    "plt.subplots(figsize=(12, 5))\n",
    "plt.plot(k_list,scores,color='Red',linestyle='dashed',marker='o')\n",
    "plt.xlabel('k')\n",
    "plt.ylabel('accuracy')\n",
    "\n",
    "plt.show()"
   ]
  },
  {
   "cell_type": "markdown",
   "id": "e19e69c1",
   "metadata": {},
   "source": [
    "**Agora  que temos o nosso K perfeito, finalmente vamos definir nosso modelo de Machine Learning (KNN)!!!**"
   ]
  },
  {
   "cell_type": "code",
   "execution_count": 30,
   "id": "5a416a58",
   "metadata": {
    "ExecuteTime": {
     "end_time": "2022-03-05T11:06:04.932806Z",
     "start_time": "2022-03-05T11:06:04.916813Z"
    }
   },
   "outputs": [
    {
     "data": {
      "text/plain": [
       "19"
      ]
     },
     "execution_count": 30,
     "metadata": {},
     "output_type": "execute_result"
    }
   ],
   "source": [
    "best_k = list(grid.best_params_.values())[0]\n",
    "best_k"
   ]
  },
  {
   "cell_type": "code",
   "execution_count": 31,
   "id": "0ff8e59d",
   "metadata": {
    "ExecuteTime": {
     "end_time": "2022-03-05T11:06:04.948808Z",
     "start_time": "2022-03-05T11:06:04.932806Z"
    }
   },
   "outputs": [],
   "source": [
    "knn = neighbors.KNeighborsClassifier(n_neighbors=best_k, metric='euclidean')"
   ]
  },
  {
   "cell_type": "markdown",
   "id": "1271a7a0",
   "metadata": {},
   "source": [
    "Com a base do modelo pronto, agora precisamos treinar ele.\n",
    "\n",
    "* Para isso, vamos chama-lo junto com o método `.fit()` que recebe as features de treino e o target de treino:"
   ]
  },
  {
   "cell_type": "markdown",
   "id": "a00c7185",
   "metadata": {},
   "source": [
    "**Treinando o Modelo**"
   ]
  },
  {
   "cell_type": "code",
   "execution_count": 32,
   "id": "15a98b55",
   "metadata": {
    "ExecuteTime": {
     "end_time": "2022-03-05T11:06:04.964834Z",
     "start_time": "2022-03-05T11:06:04.948808Z"
    }
   },
   "outputs": [
    {
     "data": {
      "text/plain": [
       "KNeighborsClassifier(metric='euclidean', n_neighbors=19)"
      ]
     },
     "execution_count": 32,
     "metadata": {},
     "output_type": "execute_result"
    }
   ],
   "source": [
    "knn.fit(X_train, y_train)"
   ]
  },
  {
   "cell_type": "markdown",
   "id": "85cb9f61",
   "metadata": {},
   "source": [
    "Agora que o modelo está treinado com os dados de treino (X_train e y_train), vamos fazer uns teste com os dados de teste (X_test e y_test). \n",
    "\n",
    "Para isso, vamos usar a função `knn.score()`. \n",
    "* Ela recebe 2 parametros: as features de teste (X_test) e o target de teste (y_test)"
   ]
  },
  {
   "cell_type": "markdown",
   "id": "c59903c1",
   "metadata": {},
   "source": [
    "* **Aplicando o modelo nos dados de testes**"
   ]
  },
  {
   "cell_type": "code",
   "execution_count": 33,
   "id": "da8d4f66",
   "metadata": {
    "ExecuteTime": {
     "end_time": "2022-03-05T11:06:04.988809Z",
     "start_time": "2022-03-05T11:06:04.964834Z"
    }
   },
   "outputs": [
    {
     "data": {
      "text/plain": [
       "array([0., 1., 1., 1., 1., 1., 0., 1., 0., 1., 1., 1., 0., 1., 1., 1., 0.,\n",
       "       1., 1., 1., 0., 1., 1., 0., 1., 1., 1., 1., 0., 0., 0., 0., 1., 1.,\n",
       "       1., 1., 1., 1., 1., 0., 0.])"
      ]
     },
     "execution_count": 33,
     "metadata": {},
     "output_type": "execute_result"
    }
   ],
   "source": [
    "resultado = knn.predict(X_test)\n",
    "resultado"
   ]
  },
  {
   "cell_type": "code",
   "execution_count": 34,
   "id": "451857d9",
   "metadata": {
    "ExecuteTime": {
     "end_time": "2022-03-05T11:06:05.012774Z",
     "start_time": "2022-03-05T11:06:04.988809Z"
    }
   },
   "outputs": [
    {
     "name": "stdout",
     "output_type": "stream",
     "text": [
      "O modelo acertou 0.93% dos casos\n"
     ]
    }
   ],
   "source": [
    "accuracy = knn.score(X_test, y_test)\n",
    "print('O modelo acertou {:.2f}% dos casos'.format(accuracy))"
   ]
  },
  {
   "cell_type": "markdown",
   "id": "ce9a245e",
   "metadata": {},
   "source": [
    "* **Matriz de Confusão**"
   ]
  },
  {
   "cell_type": "code",
   "execution_count": 78,
   "id": "b87c40d9",
   "metadata": {
    "ExecuteTime": {
     "end_time": "2022-03-05T11:23:49.119393Z",
     "start_time": "2022-03-05T11:23:49.055459Z"
    }
   },
   "outputs": [
    {
     "name": "stdout",
     "output_type": "stream",
     "text": [
      "          Predito  0.0  1.0  All\n",
      "Real                            \n",
      "0.0                 13    3   16\n",
      "1.0                  0   25   25\n",
      "All                 13   28   41\n"
     ]
    },
    {
     "ename": "AttributeError",
     "evalue": "'NoneType' object has no attribute 'style'",
     "output_type": "error",
     "traceback": [
      "\u001b[1;31m---------------------------------------------------------------------------\u001b[0m",
      "\u001b[1;31mAttributeError\u001b[0m                            Traceback (most recent call last)",
      "\u001b[1;32m~\\AppData\\Local\\Temp/ipykernel_9788/824280872.py\u001b[0m in \u001b[0;36m<module>\u001b[1;34m\u001b[0m\n\u001b[1;32m----> 1\u001b[1;33m print(pd.crosstab(y_test, resultado, rownames=['Real'], colnames=[\n\u001b[0m\u001b[0;32m      2\u001b[0m       '          Predito'], margins=True)).style.format({'preco_frete': 'R$ {:.2f}'})\n",
      "\u001b[1;31mAttributeError\u001b[0m: 'NoneType' object has no attribute 'style'"
     ]
    }
   ],
   "source": [
    "print(pd.crosstab(y_test, resultado, rownames=['Real'], colnames=[\n",
    "      '          Predito'], margins=True))"
   ]
  },
  {
   "cell_type": "markdown",
   "id": "75f1acc3",
   "metadata": {},
   "source": [
    "Nessa visualização podemos ver melhor onde o modelo errou e acertou.\n",
    "\n",
    "* Quando o salário é abaixo da mediana o modelo acertou 13 de 16, já quando é acima da mediana o modelo acertou 100%.\n",
    "\n",
    "*`Lembrando que nosso amostra é pequena, acredito que se tivéssemos mais dados a performance seria bem melhor.`\n"
   ]
  },
  {
   "cell_type": "markdown",
   "id": "c1218ce9",
   "metadata": {},
   "source": [
    "## Visualizando a fronteira"
   ]
  },
  {
   "cell_type": "markdown",
   "id": "f6e043d9",
   "metadata": {},
   "source": [
    "Para fins de visualização, vamos usar as duas variáveis com  mais evidencias para criar nossa visualização de fronteirras: `ssc_p` e `hsc_p`."
   ]
  },
  {
   "cell_type": "markdown",
   "id": "0adb0dd1",
   "metadata": {},
   "source": [
    "* Criando uma função para a nossa visualização"
   ]
  },
  {
   "cell_type": "code",
   "execution_count": 36,
   "id": "e7ba4978",
   "metadata": {
    "ExecuteTime": {
     "end_time": "2022-03-05T11:06:05.108736Z",
     "start_time": "2022-03-05T11:06:05.084746Z"
    }
   },
   "outputs": [],
   "source": [
    "def knn_comparison(data, k):\n",
    "    x = data[['ssc_p','hsc_p']].values\n",
    "    y = data['salary'].astype(int).values\n",
    "    knn = neighbors.KNeighborsClassifier(n_neighbors=k)\n",
    "    knn.fit(x, y)\n",
    "    plt.subplots(figsize=(7, 7))\n",
    "    plot_decision_regions(x, y, clf=knn)\n",
    "    plt.xlabel('ssc_p')\n",
    "    plt.ylabel('hsc_p')\n",
    "    plt.title('K='+ str(k))\n",
    "    plt.show()"
   ]
  },
  {
   "cell_type": "markdown",
   "id": "32042fc3",
   "metadata": {},
   "source": [
    "Visualizando o resultado"
   ]
  },
  {
   "cell_type": "code",
   "execution_count": 37,
   "id": "cede23d7",
   "metadata": {
    "ExecuteTime": {
     "end_time": "2022-03-05T11:06:10.351071Z",
     "start_time": "2022-03-05T11:06:05.108736Z"
    }
   },
   "outputs": [
    {
     "data": {
      "image/png": "[encoded data removed]",
      "text/plain": [
       "<Figure size 504x504 with 1 Axes>"
      ]
     },
     "metadata": {},
     "output_type": "display_data"
    }
   ],
   "source": [
    "knn_comparison(data= df_dummy, k=best_k)"
   ]
  },
  {
   "cell_type": "markdown",
   "id": "3abebfec",
   "metadata": {},
   "source": [
    "## Testando o Modelo com Novas Entradas"
   ]
  },
  {
   "cell_type": "code",
   "execution_count": 38,
   "id": "fa771572",
   "metadata": {
    "ExecuteTime": {
     "end_time": "2022-03-05T11:06:10.383133Z",
     "start_time": "2022-03-05T11:06:10.351071Z"
    }
   },
   "outputs": [
    {
     "data": {
      "text/html": [
       "<div>\n",
       "<style scoped>\n",
       "    .dataframe tbody tr th:only-of-type {\n",
       "        vertical-align: middle;\n",
       "    }\n",
       "\n",
       "    .dataframe tbody tr th {\n",
       "        vertical-align: top;\n",
       "    }\n",
       "\n",
       "    .dataframe thead th {\n",
       "        text-align: right;\n",
       "    }\n",
       "</style>\n",
       "<table border=\"1\" class=\"dataframe\">\n",
       "  <thead>\n",
       "    <tr style=\"text-align: right;\">\n",
       "      <th></th>\n",
       "      <th>0</th>\n",
       "    </tr>\n",
       "  </thead>\n",
       "  <tbody>\n",
       "    <tr>\n",
       "      <th>ssc_p</th>\n",
       "      <td>67.0</td>\n",
       "    </tr>\n",
       "    <tr>\n",
       "      <th>hsc_p</th>\n",
       "      <td>91.0</td>\n",
       "    </tr>\n",
       "    <tr>\n",
       "      <th>degree_p</th>\n",
       "      <td>58.0</td>\n",
       "    </tr>\n",
       "    <tr>\n",
       "      <th>etest_p</th>\n",
       "      <td>55.0</td>\n",
       "    </tr>\n",
       "    <tr>\n",
       "      <th>mba_p</th>\n",
       "      <td>58.8</td>\n",
       "    </tr>\n",
       "    <tr>\n",
       "      <th>salary</th>\n",
       "      <td>1.0</td>\n",
       "    </tr>\n",
       "    <tr>\n",
       "      <th>gender_F</th>\n",
       "      <td>0.0</td>\n",
       "    </tr>\n",
       "    <tr>\n",
       "      <th>gender_M</th>\n",
       "      <td>1.0</td>\n",
       "    </tr>\n",
       "    <tr>\n",
       "      <th>ssc_b_Central</th>\n",
       "      <td>0.0</td>\n",
       "    </tr>\n",
       "    <tr>\n",
       "      <th>ssc_b_Others</th>\n",
       "      <td>1.0</td>\n",
       "    </tr>\n",
       "    <tr>\n",
       "      <th>hsc_b_Central</th>\n",
       "      <td>0.0</td>\n",
       "    </tr>\n",
       "    <tr>\n",
       "      <th>hsc_b_Others</th>\n",
       "      <td>1.0</td>\n",
       "    </tr>\n",
       "    <tr>\n",
       "      <th>hsc_s_Arts</th>\n",
       "      <td>0.0</td>\n",
       "    </tr>\n",
       "    <tr>\n",
       "      <th>hsc_s_Commerce</th>\n",
       "      <td>1.0</td>\n",
       "    </tr>\n",
       "    <tr>\n",
       "      <th>hsc_s_Science</th>\n",
       "      <td>0.0</td>\n",
       "    </tr>\n",
       "    <tr>\n",
       "      <th>degree_t_Comm&amp;Mgmt</th>\n",
       "      <td>0.0</td>\n",
       "    </tr>\n",
       "    <tr>\n",
       "      <th>degree_t_Sci&amp;Tech</th>\n",
       "      <td>1.0</td>\n",
       "    </tr>\n",
       "    <tr>\n",
       "      <th>workex_No</th>\n",
       "      <td>1.0</td>\n",
       "    </tr>\n",
       "    <tr>\n",
       "      <th>workex_Yes</th>\n",
       "      <td>0.0</td>\n",
       "    </tr>\n",
       "    <tr>\n",
       "      <th>specialisation_Mkt&amp;Fin</th>\n",
       "      <td>0.0</td>\n",
       "    </tr>\n",
       "    <tr>\n",
       "      <th>specialisation_Mkt&amp;HR</th>\n",
       "      <td>1.0</td>\n",
       "    </tr>\n",
       "    <tr>\n",
       "      <th>status_Not Placed</th>\n",
       "      <td>0.0</td>\n",
       "    </tr>\n",
       "    <tr>\n",
       "      <th>status_Placed</th>\n",
       "      <td>1.0</td>\n",
       "    </tr>\n",
       "  </tbody>\n",
       "</table>\n",
       "</div>"
      ],
      "text/plain": [
       "                           0\n",
       "ssc_p                   67.0\n",
       "hsc_p                   91.0\n",
       "degree_p                58.0\n",
       "etest_p                 55.0\n",
       "mba_p                   58.8\n",
       "salary                   1.0\n",
       "gender_F                 0.0\n",
       "gender_M                 1.0\n",
       "ssc_b_Central            0.0\n",
       "ssc_b_Others             1.0\n",
       "hsc_b_Central            0.0\n",
       "hsc_b_Others             1.0\n",
       "hsc_s_Arts               0.0\n",
       "hsc_s_Commerce           1.0\n",
       "hsc_s_Science            0.0\n",
       "degree_t_Comm&Mgmt       0.0\n",
       "degree_t_Sci&Tech        1.0\n",
       "workex_No                1.0\n",
       "workex_Yes               0.0\n",
       "specialisation_Mkt&Fin   0.0\n",
       "specialisation_Mkt&HR    1.0\n",
       "status_Not Placed        0.0\n",
       "status_Placed            1.0"
      ]
     },
     "execution_count": 38,
     "metadata": {},
     "output_type": "execute_result"
    }
   ],
   "source": [
    "df_dummy.head(1).T"
   ]
  },
  {
   "cell_type": "markdown",
   "id": "493947de",
   "metadata": {},
   "source": [
    "Vamos criar uma linha de exemplo (essa seria a linha com as características da pessoa que você quer prever). "
   ]
  },
  {
   "cell_type": "markdown",
   "id": "080df20b",
   "metadata": {
    "ExecuteTime": {
     "end_time": "2022-02-28T19:07:58.256962Z",
     "start_time": "2022-02-28T19:07:58.250981Z"
    }
   },
   "source": [
    "Nosso exemplo deve ser um array do numpy, e posteriormente precisamos alterar seu formato com o método `.reshape()`. \n",
    "\n",
    "Note também que é necessário normalizar os números que você acabou de criar, usando o `sc_X.transform(exemplo)`.\n",
    "\n",
    "Por fim, use `knn.predict(exemplo)` para prever a faixa de renda da pessoa!"
   ]
  },
  {
   "cell_type": "code",
   "execution_count": 39,
   "id": "aaae1755",
   "metadata": {
    "ExecuteTime": {
     "end_time": "2022-03-05T11:06:10.399064Z",
     "start_time": "2022-03-05T11:06:10.383133Z"
    },
    "scrolled": false
   },
   "outputs": [
    {
     "name": "stdout",
     "output_type": "stream",
     "text": [
      "Com base nos dados informados o sálario ficaria abaixo de US$240.000\n"
     ]
    }
   ],
   "source": [
    "# Dados da pessoa que queremos prever\n",
    "entrada = np.array([40,95,60,60,50,1,0,1,0,0,0,0,1,0,1,0,0,1,1,0,0,0])\n",
    "\n",
    "# Alterando seu formato\n",
    "entrada = entrada.reshape(1,-1)\n",
    "\n",
    "# Normalizar os números\n",
    "entrada = sc_X.transform(entrada)\n",
    "\n",
    "# Prevendo sua faixa de renda\n",
    "predicao = knn.predict(entrada)\n",
    "\n",
    "\n",
    "if predicao[0] > 0:\n",
    "    print(\"Com base nos dados informados o sálario ficaria acima de US$240.000\")\n",
    "else:\n",
    "    print(\"Com base nos dados informados o sálario ficaria abaixo de US$240.000\")\n"
   ]
  }
 ],
 "metadata": {
  "kernelspec": {
   "display_name": "Python 3 (ipykernel)",
   "language": "python",
   "name": "python3"
  },
  "language_info": {
   "codemirror_mode": {
    "name": "ipython",
    "version": 3
   },
   "file_extension": ".py",
   "mimetype": "text/x-python",
   "name": "python",
   "nbconvert_exporter": "python",
   "pygments_lexer": "ipython3",
   "version": "3.9.7"
  },
  "toc": {
   "base_numbering": 1,
   "nav_menu": {},
   "number_sections": true,
   "sideBar": true,
   "skip_h1_title": false,
   "title_cell": "Table of Contents",
   "title_sidebar": "Contents",
   "toc_cell": false,
   "toc_position": {
    "height": "calc(100% - 180px)",
    "left": "10px",
    "top": "150px",
    "width": "303.825px"
   },
   "toc_section_display": true,
   "toc_window_display": true
  }
 },
 "nbformat": 4,
 "nbformat_minor": 5
}
